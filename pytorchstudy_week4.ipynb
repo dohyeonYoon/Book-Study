{
 "cells": [
  {
   "cell_type": "markdown",
   "id": "5979d798-bd2f-45d5-9bc9-520cf3d1ba79",
   "metadata": {
    "tags": []
   },
   "source": [
    "# (4주차-1) 12월02일\n",
    "- torch version 1.9.0\n",
    "- cuda 10.2\n",
    "- 주제: Fashion-MNIST Classfication 신경망 모델 구성하기\n",
    "- 작성자: 윤도현"
   ]
  },
  {
   "cell_type": "markdown",
   "id": "e2dac1f2-7d7e-4991-86a4-fe7bfecf0dc1",
   "metadata": {},
   "source": [
    "## 라이브러리 import"
   ]
  },
  {
   "cell_type": "code",
   "execution_count": 1,
   "id": "728d4a13-41f8-4e64-9f53-1d5a583ae835",
   "metadata": {},
   "outputs": [],
   "source": [
    "import os\n",
    "import torch\n",
    "from torch import nn\n",
    "from torch.utils.data import DataLoader\n",
    "from torchvision import datasets, transforms"
   ]
  },
  {
   "cell_type": "markdown",
   "id": "6c8b75e8-3b42-475a-9500-13cd3094d47c",
   "metadata": {},
   "source": [
    "## gpu 사용여부 체크"
   ]
  },
  {
   "cell_type": "code",
   "execution_count": 2,
   "id": "fd14fb58-2a08-47ae-9ab6-b1a75ef8e0a9",
   "metadata": {},
   "outputs": [
    {
     "name": "stdout",
     "output_type": "stream",
     "text": [
      "Using cuda device\n"
     ]
    }
   ],
   "source": [
    "device = 'cuda' if torch.cuda.is_available() else 'cpu'\n",
    "print(f'Using {device} device')"
   ]
  },
  {
   "cell_type": "markdown",
   "id": "6a8a1b83-a768-4c36-a47f-42c7bc6af7bf",
   "metadata": {},
   "source": [
    "## 클래스 정의하기"
   ]
  },
  {
   "cell_type": "code",
   "execution_count": 3,
   "id": "47ac29b1-ca3c-4f96-917f-c60075b9545c",
   "metadata": {},
   "outputs": [],
   "source": [
    "class NeuralNetwork(nn.Module):\n",
    "    # 레이어 정의\n",
    "    def __init__(self):\n",
    "        super(NeuralNetwork,self).__init__()\n",
    "        self.flatten = nn.Flatten()\n",
    "        self.linear_relu_stack = nn.Sequential(\n",
    "            nn.Linear(28*28,512),\n",
    "            nn.ReLU(),\n",
    "            nn.Linear(512,512),\n",
    "            nn.ReLU(),\n",
    "            nn.Linear(512,10),\n",
    "        )\n",
    "        \n",
    "    def forward(self,x):\n",
    "        x = self.flatten(x)\n",
    "        logits = self.linear_relu_stack(x)\n",
    "        return logits"
   ]
  },
  {
   "cell_type": "code",
   "execution_count": 4,
   "id": "84bd0337-110d-492a-b8d3-ce02b9c2fe25",
   "metadata": {},
   "outputs": [
    {
     "data": {
      "text/plain": [
       "NeuralNetwork(\n",
       "  (flatten): Flatten(start_dim=1, end_dim=-1)\n",
       "  (linear_relu_stack): Sequential(\n",
       "    (0): Linear(in_features=784, out_features=512, bias=True)\n",
       "    (1): ReLU()\n",
       "    (2): Linear(in_features=512, out_features=512, bias=True)\n",
       "    (3): ReLU()\n",
       "    (4): Linear(in_features=512, out_features=10, bias=True)\n",
       "  )\n",
       ")"
      ]
     },
     "execution_count": 4,
     "metadata": {},
     "output_type": "execute_result"
    }
   ],
   "source": [
    "model = NeuralNetwork().to(device)\n",
    "model"
   ]
  },
  {
   "cell_type": "markdown",
   "id": "96a576c7-a2f3-442b-a9af-291ee6f6dc07",
   "metadata": {},
   "source": [
    "### 소프트맥스 활성화 함수"
   ]
  },
  {
   "cell_type": "markdown",
   "id": "d3f27797-ea2f-4604-bb03-6abf6a600cb4",
   "metadata": {},
   "source": [
    "소프트맥스 활성화 함수는 다중 클래스 분류에 주로 사용됩니다. \n",
    ">why? softmax 함수는 뉴런의 출력값에 대하여 class 분류를 위하여 마지막 단계에서 출력값에 대한 **정규화**를 해주는 함수이다\n",
    "> 개와 고양이 말 사진이 섞여있는 데이터셋을 분류한다고 예를들어보겠습니다  \n",
    "사진속 동물이 개인지, 고양이인지, 말인지 확률적으로 수치화 한다고 했을 때 \n",
    "개(11%), 고양이(29%), 말(60%) 와 같이 확률적 classfication을 할 때 용이합니다.\n",
    "\n",
    "#### 따라서 기억해야할 것은 softmax 활성화 함수의 특징은 결과물의 수치의 합은 언제나 1 이라는 것입니다.\n",
    "#### 그래서 fully-connected layer의 마지막 층의 출력값에 softmax 함수를 취해주면 그 값들은 클래스 확률로 변하게 되는겁니다."
   ]
  },
  {
   "cell_type": "code",
   "execution_count": 6,
   "id": "0a95c88f-247b-484e-867b-8abef90b2e91",
   "metadata": {},
   "outputs": [
    {
     "name": "stdout",
     "output_type": "stream",
     "text": [
      "Predicted class: tensor([1], device='cuda:0')\n"
     ]
    }
   ],
   "source": [
    "X = torch.rand(1, 28, 28, device=device)\n",
    "logits = model(X)\n",
    "pred_probab = nn.Softmax(dim=1)(logits)\n",
    "y_pred = pred_probab.argmax(1)\n",
    "print(f\"Predicted class: {y_pred}\")"
   ]
  },
  {
   "cell_type": "markdown",
   "id": "cc7e71f0-d6b9-41b8-8c49-96b8ee749155",
   "metadata": {},
   "source": [
    "## 모델 계층(Layer)"
   ]
  },
  {
   "cell_type": "code",
   "execution_count": 9,
   "id": "44d8dddd-2395-4dc4-a4ea-a9049dd30e19",
   "metadata": {},
   "outputs": [
    {
     "data": {
      "text/plain": [
       "torch.Size([3, 28, 28])"
      ]
     },
     "execution_count": 9,
     "metadata": {},
     "output_type": "execute_result"
    }
   ],
   "source": [
    "input_image = torch.rand(3,28,28)\n",
    "input_image.size()"
   ]
  },
  {
   "cell_type": "markdown",
   "id": "fb71be1f-9f12-40af-91ee-78b81781978a",
   "metadata": {},
   "source": [
    "## nn.Flatten"
   ]
  },
  {
   "cell_type": "code",
   "execution_count": 10,
   "id": "8c2b3773-26fc-4b0a-9a63-a328932e18f4",
   "metadata": {},
   "outputs": [
    {
     "data": {
      "text/plain": [
       "torch.Size([3, 784])"
      ]
     },
     "execution_count": 10,
     "metadata": {},
     "output_type": "execute_result"
    }
   ],
   "source": [
    "flatten = nn.Flatten()\n",
    "flat_image = flatten(input_image)\n",
    "flat_image.size()"
   ]
  },
  {
   "cell_type": "markdown",
   "id": "84a44940-f274-4c6e-8dce-1efe5e8e65c7",
   "metadata": {},
   "source": [
    "## nn.Linear"
   ]
  },
  {
   "cell_type": "code",
   "execution_count": 12,
   "id": "d5618678-ecfe-4177-9226-f874b489971c",
   "metadata": {},
   "outputs": [
    {
     "data": {
      "text/plain": [
       "torch.Size([3, 20])"
      ]
     },
     "execution_count": 12,
     "metadata": {},
     "output_type": "execute_result"
    }
   ],
   "source": [
    "layer1 = nn.Linear(in_features=28*28, out_features=20)\n",
    "hidden1 = layer1(flat_image)\n",
    "hidden1.size()"
   ]
  },
  {
   "cell_type": "markdown",
   "id": "1864282f-e066-439d-a479-cb593f9778a0",
   "metadata": {},
   "source": [
    "## nn.ReLU"
   ]
  },
  {
   "cell_type": "code",
   "execution_count": 17,
   "id": "5c1dc027-ffe6-4f0d-be36-c5bf52f8ff1e",
   "metadata": {},
   "outputs": [
    {
     "data": {
      "text/plain": [
       "(tensor([[-0.3996,  0.2488,  0.4686,  0.0427,  0.0675,  0.2271, -0.0538, -0.1249,\n",
       "           0.3092, -0.3172, -0.0190, -0.4455, -0.5902,  0.0539, -0.2270,  0.1010,\n",
       "          -0.1606,  0.1283, -0.1027,  0.2997],\n",
       "         [ 0.1464, -0.0227,  0.3713, -0.3604,  0.2646,  0.5160,  0.0015, -0.0662,\n",
       "           0.0177, -0.2986, -0.1600, -0.5430, -0.6402, -0.0399, -0.0341, -0.0565,\n",
       "          -0.1877, -0.0404, -0.1962,  0.2701],\n",
       "         [ 0.0825,  0.1540,  0.3875, -0.0050,  0.0494,  0.7528,  0.0656,  0.1895,\n",
       "           0.0532, -0.1372, -0.2737, -0.5299, -0.5859,  0.0183, -0.2146,  0.0354,\n",
       "          -0.4782, -0.0865, -0.1940,  0.1993]], grad_fn=<AddmmBackward>),\n",
       " tensor([[0.0000, 0.2488, 0.4686, 0.0427, 0.0675, 0.2271, 0.0000, 0.0000, 0.3092,\n",
       "          0.0000, 0.0000, 0.0000, 0.0000, 0.0539, 0.0000, 0.1010, 0.0000, 0.1283,\n",
       "          0.0000, 0.2997],\n",
       "         [0.1464, 0.0000, 0.3713, 0.0000, 0.2646, 0.5160, 0.0015, 0.0000, 0.0177,\n",
       "          0.0000, 0.0000, 0.0000, 0.0000, 0.0000, 0.0000, 0.0000, 0.0000, 0.0000,\n",
       "          0.0000, 0.2701],\n",
       "         [0.0825, 0.1540, 0.3875, 0.0000, 0.0494, 0.7528, 0.0656, 0.1895, 0.0532,\n",
       "          0.0000, 0.0000, 0.0000, 0.0000, 0.0183, 0.0000, 0.0354, 0.0000, 0.0000,\n",
       "          0.0000, 0.1993]], grad_fn=<ReluBackward0>))"
      ]
     },
     "execution_count": 17,
     "metadata": {},
     "output_type": "execute_result"
    }
   ],
   "source": [
    "hidden2 = nn.ReLU()(hidden1)\n",
    "hidden1, hidden2"
   ]
  },
  {
   "cell_type": "markdown",
   "id": "ee6f994c-4d73-44f0-9573-a71b322f6381",
   "metadata": {},
   "source": [
    "활성화 함수 사용하는 이유? \n",
    "> 데이터에 비선형성을 부여하기 위해!!! "
   ]
  },
  {
   "cell_type": "markdown",
   "id": "0d15320a-fbf5-47a4-bebc-b38edca2f13a",
   "metadata": {},
   "source": [
    "비선형성을 주는 이유? \n",
    "> 앞서 살펴본대로 torch.nn.Linear 함수를 이용해 데이터를 선형변환 하였다 \n",
    "\n",
    "> 하지만 선형변환은 쉽지만 망이 깊어지지 않는 단점이 있다. \n",
    "\n",
    "> 신경망으로 설명해보면 Linear 변환을 아무리 해도 hidden layer가 하나밖에 안나온다는 뜻이다."
   ]
  },
  {
   "cell_type": "markdown",
   "id": "de0a943f-201d-43d5-a6b3-eadb6d4a95a7",
   "metadata": {},
   "source": [
    "## nn.Sequential"
   ]
  },
  {
   "cell_type": "code",
   "execution_count": 19,
   "id": "5265447a-d15f-4df0-bfbd-966d62bf2e81",
   "metadata": {},
   "outputs": [],
   "source": [
    "model1 = nn.Sequential(\n",
    "    flatten,\n",
    "    layer1,\n",
    "    nn.ReLU(),\n",
    "    nn.Linear(in_features=20,out_features=10)\n",
    ")\n",
    "input_image = torch.rand(3,28,28)\n",
    "logits = model1(input_image)"
   ]
  },
  {
   "cell_type": "markdown",
   "id": "e79a716a-b04f-4d75-8612-ac3156f69874",
   "metadata": {},
   "source": [
    "https://dororongju.tistory.com/147 참고하면 좋음"
   ]
  },
  {
   "cell_type": "markdown",
   "id": "9969ccd5-4e4f-4ccb-8033-9015f6246f17",
   "metadata": {},
   "source": [
    "## nn.Softmax"
   ]
  },
  {
   "cell_type": "code",
   "execution_count": 20,
   "id": "c0c21576-0798-4def-8240-a2bd6ef09e4e",
   "metadata": {},
   "outputs": [],
   "source": [
    "softmax = nn.Softmax(dim=1)\n",
    "pred_probab = softmax(logits)"
   ]
  },
  {
   "cell_type": "markdown",
   "id": "97f6a1a4-ffd6-487d-89ed-839d57cf3dd4",
   "metadata": {},
   "source": [
    "## 모델 매개변수"
   ]
  },
  {
   "cell_type": "markdown",
   "id": "b3558780-b0ca-4f6b-bd94-0410add5d902",
   "metadata": {},
   "source": [
    "torch에서 제공하는 parameters() 함수나 named_parameters() 함수를 이용하면 \n",
    "\n",
    "신경망 내부 모든 파라미터에 접근할 수 있음"
   ]
  },
  {
   "cell_type": "code",
   "execution_count": 21,
   "id": "068e08cc-2615-47df-a864-2f82b3f96603",
   "metadata": {},
   "outputs": [
    {
     "name": "stdout",
     "output_type": "stream",
     "text": [
      "Model structure:  NeuralNetwork(\n",
      "  (flatten): Flatten(start_dim=1, end_dim=-1)\n",
      "  (linear_relu_stack): Sequential(\n",
      "    (0): Linear(in_features=784, out_features=512, bias=True)\n",
      "    (1): ReLU()\n",
      "    (2): Linear(in_features=512, out_features=512, bias=True)\n",
      "    (3): ReLU()\n",
      "    (4): Linear(in_features=512, out_features=10, bias=True)\n",
      "  )\n",
      ") \n",
      "\n",
      "\n",
      "Layer: linear_relu_stack.0.weight | Size: torch.Size([512, 784]) | Values : tensor([[-0.0127,  0.0087,  0.0068,  ..., -0.0127,  0.0116, -0.0262],\n",
      "        [ 0.0065,  0.0057, -0.0134,  ..., -0.0354, -0.0110, -0.0222]],\n",
      "       device='cuda:0', grad_fn=<SliceBackward>) \n",
      "\n",
      "Layer: linear_relu_stack.0.bias | Size: torch.Size([512]) | Values : tensor([0.0061, 0.0106], device='cuda:0', grad_fn=<SliceBackward>) \n",
      "\n",
      "Layer: linear_relu_stack.2.weight | Size: torch.Size([512, 512]) | Values : tensor([[ 0.0383, -0.0263, -0.0341,  ..., -0.0046, -0.0385,  0.0231],\n",
      "        [-0.0295,  0.0029,  0.0099,  ...,  0.0303,  0.0082,  0.0272]],\n",
      "       device='cuda:0', grad_fn=<SliceBackward>) \n",
      "\n",
      "Layer: linear_relu_stack.2.bias | Size: torch.Size([512]) | Values : tensor([ 0.0343, -0.0413], device='cuda:0', grad_fn=<SliceBackward>) \n",
      "\n",
      "Layer: linear_relu_stack.4.weight | Size: torch.Size([10, 512]) | Values : tensor([[-0.0418, -0.0019, -0.0158,  ..., -0.0203, -0.0099, -0.0016],\n",
      "        [ 0.0176,  0.0059,  0.0066,  ..., -0.0114, -0.0404, -0.0419]],\n",
      "       device='cuda:0', grad_fn=<SliceBackward>) \n",
      "\n",
      "Layer: linear_relu_stack.4.bias | Size: torch.Size([10]) | Values : tensor([-0.0361, -0.0233], device='cuda:0', grad_fn=<SliceBackward>) \n",
      "\n"
     ]
    }
   ],
   "source": [
    "print(\"Model structure: \", model, \"\\n\\n\")\n",
    "\n",
    "for name, param in model.named_parameters():\n",
    "    print(f\"Layer: {name} | Size: {param.size()} | Values : {param[:2]} \\n\")"
   ]
  },
  {
   "cell_type": "markdown",
   "id": "b9319f1b-5aeb-492c-ab21-858a25919045",
   "metadata": {},
   "source": [
    "# (4주차-2) 12월02일\n",
    "- torch version 1.9.0\n",
    "- cuda 10.2\n",
    "- 주제: torch.autograd 함수를 사용한 자동 미분\n",
    "- 작성자: 윤도현"
   ]
  },
  {
   "cell_type": "code",
   "execution_count": 28,
   "id": "bc687de3-3f01-4d2b-b543-02ec89467a6c",
   "metadata": {
    "jupyter": {
     "source_hidden": true
    },
    "tags": []
   },
   "outputs": [],
   "source": [
    "from IPython.display import Image"
   ]
  },
  {
   "cell_type": "code",
   "execution_count": 30,
   "id": "2f29421a-779b-411d-bf5b-8e8d6a0da11b",
   "metadata": {
    "collapsed": true,
    "jupyter": {
     "outputs_hidden": true,
     "source_hidden": true
    },
    "tags": []
   },
   "outputs": [
    {
     "data": {
      "text/plain": [
       "'C:\\\\Users\\\\user\\\\Pytorch_Study'"
      ]
     },
     "execution_count": 30,
     "metadata": {},
     "output_type": "execute_result"
    }
   ],
   "source": [
    "pwd"
   ]
  },
  {
   "cell_type": "code",
   "execution_count": 32,
   "id": "98984f66-d268-4e2d-9484-82af02ebba2c",
   "metadata": {
    "collapsed": true,
    "jupyter": {
     "outputs_hidden": true,
     "source_hidden": true
    },
    "tags": []
   },
   "outputs": [
    {
     "name": "stdout",
     "output_type": "stream",
     "text": [
      "C:\\Users\\user\n"
     ]
    }
   ],
   "source": [
    "cd .."
   ]
  },
  {
   "cell_type": "markdown",
   "id": "8e30a768-66ba-4f75-9def-077d7521c8c0",
   "metadata": {
    "jp-MarkdownHeadingCollapsed": true,
    "tags": []
   },
   "source": [
    "# 필요 개념 : 오차 순전파, 역전파"
   ]
  },
  {
   "cell_type": "markdown",
   "id": "63b3dfbc-ac7c-4a40-869a-e4f3ca6c304c",
   "metadata": {
    "tags": []
   },
   "source": [
    "## 합성함수\n",
    "합성함수란 여러개의 함수로 구성된 함수이다. \n",
    "\n",
    "예를들어 z = (x+y)**2 이라는 함수는 아래처럼 두개의 식으로 나누어진다. "
   ]
  },
  {
   "cell_type": "code",
   "execution_count": 34,
   "id": "9b10e137-f312-49b9-9205-f6cf2182c8a4",
   "metadata": {
    "jupyter": {
     "source_hidden": true
    },
    "tags": []
   },
   "outputs": [
    {
     "data": {
      "image/png": "[encoded data removed]",
      "text/plain": [
       "<IPython.core.display.Image object>"
      ]
     },
     "execution_count": 34,
     "metadata": {},
     "output_type": "execute_result"
    }
   ],
   "source": [
    "Image(\"image_file/1.png\")"
   ]
  },
  {
   "cell_type": "markdown",
   "id": "bdb67925-000e-4756-9473-2e37994bac10",
   "metadata": {},
   "source": [
    "## 연쇄법칙(Chain Rule)\n",
    "연쇄법칙은 합성함수의 미분에 대한 성질을 뜻하며 정의는 다음과 같다.\n",
    "\n",
    "**합성 함수의 미분은 합성 함수를 구성하는 각 함수의 미분의 곱으로 나타낼 수 있다.**\n",
    "\n",
    "따라서 x에 대한 z의 미분은 아래처럼 나타낼 수 있다."
   ]
  },
  {
   "cell_type": "code",
   "execution_count": 35,
   "id": "d7eef4c1-4909-44c8-847e-ef56a6642493",
   "metadata": {
    "jupyter": {
     "source_hidden": true
    },
    "tags": []
   },
   "outputs": [
    {
     "data": {
      "image/png": "[encoded data removed]",
      "text/plain": [
       "<IPython.core.display.Image object>"
      ]
     },
     "execution_count": 35,
     "metadata": {},
     "output_type": "execute_result"
    }
   ],
   "source": [
    "Image(\"image_file/2.png\")"
   ]
  },
  {
   "cell_type": "markdown",
   "id": "3bc4cde6-7e54-4152-8e33-5c4611a95899",
   "metadata": {},
   "source": [
    "연쇄법칙을 써서 위 식을 미분해 보면 아래처럼 된다."
   ]
  },
  {
   "cell_type": "code",
   "execution_count": 36,
   "id": "a5835d2d-ee65-4460-8079-fe662006abb0",
   "metadata": {
    "jupyter": {
     "source_hidden": true
    },
    "tags": []
   },
   "outputs": [
    {
     "data": {
      "image/png": "[encoded data removed]",
      "text/plain": [
       "<IPython.core.display.Image object>"
      ]
     },
     "execution_count": 36,
     "metadata": {},
     "output_type": "execute_result"
    }
   ],
   "source": [
    "Image(\"image_file/3.png\")"
   ]
  },
  {
   "cell_type": "markdown",
   "id": "d0abb8b7-f983-4a7f-a439-6728459ecfd2",
   "metadata": {},
   "source": [
    "아래 그림에서\n",
    "\n",
    "파란색 화살표는 순전파(forward propagation), \n",
    "\n",
    "빨간색 화살표는 역전파(back propagation)이다. "
   ]
  },
  {
   "cell_type": "code",
   "execution_count": 37,
   "id": "e46419b4-4a4d-479a-bb24-146b275dafb9",
   "metadata": {
    "jupyter": {
     "source_hidden": true
    },
    "tags": []
   },
   "outputs": [
    {
     "data": {
      "image/png": "[encoded data removed]",
      "text/plain": [
       "<IPython.core.display.Image object>"
      ]
     },
     "execution_count": 37,
     "metadata": {},
     "output_type": "execute_result"
    }
   ],
   "source": [
    "Image(\"image_file/4.png\")"
   ]
  },
  {
   "cell_type": "markdown",
   "id": "7e47fa48-92e3-4bef-bc3e-a2bf7de066d4",
   "metadata": {},
   "source": [
    "x와 y가 입력값으로 들어와서 덧셈을하고 t라는 변수에 저장된 뒤 제곱하여 z라는 결과값을 순전파에서 얻었습니다. \n",
    "\n",
    "이제부터 역전파를 진행해보면\n",
    "\n",
    "1. 오른쪽에서부터 z에 대해 z를 미분한 값은 1이고\n",
    "2. Z= t^2 의 미분값은 2t이고, 그러므로 1 x 2t 가 된다. \n",
    "3. 앞쪽에서 구해진 미분값인 1 x 2t에 (t=x+y)의 x에대한 미분은 1이기에 최종적으로 1 x 2t x 1이 된다.\n",
    "\n",
    "그러므로 2t가 되고 t=x+y를 치환하면 결국 z = (x+y)^2의 x에 대한 미분은 2(x+y)가 된다."
   ]
  },
  {
   "cell_type": "markdown",
   "id": "ce2e1da5-5981-41c9-a9ce-293d4410ce12",
   "metadata": {},
   "source": [
    "# ."
   ]
  },
  {
   "cell_type": "code",
   "execution_count": 38,
   "id": "12ff0448-363d-4ada-8415-60b3c4aabcc7",
   "metadata": {},
   "outputs": [],
   "source": [
    "import torch "
   ]
  },
  {
   "cell_type": "code",
   "execution_count": 40,
   "id": "6358e88f-d00a-463d-b2b9-8dd52288873f",
   "metadata": {},
   "outputs": [
    {
     "data": {
      "text/plain": [
       "(tensor([1., 1., 1., 1., 1.]),\n",
       " tensor([0., 0., 0.]),\n",
       " tensor([[-1.5349,  0.3529, -0.4940],\n",
       "         [ 0.4064, -0.5556, -0.9969],\n",
       "         [-0.5031, -0.2839, -0.5037],\n",
       "         [ 1.7790, -1.2313, -0.7579],\n",
       "         [ 0.2335, -0.7556,  0.8982]], requires_grad=True),\n",
       " tensor([-0.6300, -1.9261, -0.1361], requires_grad=True),\n",
       " tensor([-0.2492, -4.3997, -1.9903], grad_fn=<AddBackward0>))"
      ]
     },
     "execution_count": 40,
     "metadata": {},
     "output_type": "execute_result"
    }
   ],
   "source": [
    "x = torch.ones(5)  # input tensor\n",
    "y = torch.zeros(3)  # expected output\n",
    "w = torch.randn(5, 3, requires_grad=True)\n",
    "b = torch.randn(3, requires_grad=True)\n",
    "z = torch.matmul(x, w)+b\n",
    "loss = torch.nn.functional.binary_cross_entropy_with_logits(z, y)\n",
    "x,y,w,b,z"
   ]
  },
  {
   "cell_type": "markdown",
   "id": "0d500bc3-6d36-4c7b-b7c6-55b9c904c0c1",
   "metadata": {},
   "source": [
    "## gradient 계산하기"
   ]
  },
  {
   "cell_type": "markdown",
   "id": "ee1a8364-27ec-4fbf-aaea-00d369682b5a",
   "metadata": {},
   "source": [
    "신경망에서 parameter의 가중치를 최적화하려면 \n",
    "\n",
    "parameter에 대한 손실함수의 도함수(derivative)를 계산해야 합니다.\n",
    "\n",
    "이때 매개변수 = w, b 이다."
   ]
  },
  {
   "cell_type": "code",
   "execution_count": 42,
   "id": "06039518-ac69-41e9-8f38-4f13d7b1f3e5",
   "metadata": {},
   "outputs": [
    {
     "name": "stdout",
     "output_type": "stream",
     "text": [
      "tensor([[0.1460, 0.0040, 0.0401],\n",
      "        [0.1460, 0.0040, 0.0401],\n",
      "        [0.1460, 0.0040, 0.0401],\n",
      "        [0.1460, 0.0040, 0.0401],\n",
      "        [0.1460, 0.0040, 0.0401]])\n",
      "tensor([0.1460, 0.0040, 0.0401])\n"
     ]
    }
   ],
   "source": [
    "loss.backward()\n",
    "print(w.grad)\n",
    "print(b.grad)"
   ]
  },
  {
   "cell_type": "markdown",
   "id": "2ee5ad79-3827-4d52-82a2-c035b3a634cd",
   "metadata": {},
   "source": [
    "## gradient 추적 멈추기"
   ]
  },
  {
   "cell_type": "markdown",
   "id": "f0b8992b-3862-4df4-b4e9-377c188acd73",
   "metadata": {},
   "source": [
    "역전파 안하고 pre-trained model을 불러와서 단순히 데이터 입력하기만 하는 경우와 같이 순전파 연산만 할때 이러한 gradient 추적 필요없음"
   ]
  },
  {
   "cell_type": "code",
   "execution_count": 43,
   "id": "50053c6b-7a39-4f7b-81be-e3d6a7e4c801",
   "metadata": {},
   "outputs": [
    {
     "name": "stdout",
     "output_type": "stream",
     "text": [
      "True\n",
      "False\n"
     ]
    }
   ],
   "source": [
    "z = torch.matmul(x,w)+b\n",
    "print(z.requires_grad)\n",
    "\n",
    "with torch.no_grad():\n",
    "    z= torch.matmul(x,w)+b\n",
    "print(z.requires_grad)"
   ]
  },
  {
   "cell_type": "markdown",
   "id": "74535d69-f78c-4424-8769-56b83e20add3",
   "metadata": {},
   "source": [
    ">gradient 추적을 멈추는 이유?\n",
    "- gradient 추적하지 않는 텐서의 연산이 더 효율적이어서 연산속도가 향상됨\n",
    "- (**가장 중요!!**) 신경망의 일부 매개변수 (cnn에서 feature를 추출하는 부분의 매개변수 등)를 학습되지 않도록 고정하기 위해\n",
    "- pre-trained 된 model을 fine-tuning 할때 일부의 매개변수만 업데이트 해야하는 경우가 많으므로 필수적!!"
   ]
  },
  {
   "cell_type": "markdown",
   "id": "74183240-4d41-4091-89dc-ddde509a5dc5",
   "metadata": {},
   "source": [
    "# (4주차-3) 12월02일\n",
    "- torch version 1.9.0\n",
    "- cuda 10.2\n",
    "- 주제: model parameter 최적화\n",
    "- 작성자: 윤도현"
   ]
  },
  {
   "cell_type": "markdown",
   "id": "6df91961-b6aa-4f0c-9174-d879d5f843ae",
   "metadata": {},
   "source": [
    "## 베이스라인 코드\n",
    "\n",
    "## (1. 데이터셋 불러오기, 2. 불러온 데이터셋으로 데이터 로더 생성, 3. 모델 정의)"
   ]
  },
  {
   "cell_type": "code",
   "execution_count": 44,
   "id": "34fa3e27-4e1d-4c1a-b28d-1e4c529250a0",
   "metadata": {},
   "outputs": [
    {
     "name": "stderr",
     "output_type": "stream",
     "text": [
      "C:\\Users\\user\\anaconda3\\envs\\bda2021\\lib\\site-packages\\torchvision\\datasets\\mnist.py:498: UserWarning: The given NumPy array is not writeable, and PyTorch does not support non-writeable tensors. This means you can write to the underlying (supposedly non-writeable) NumPy array using the tensor. You may want to copy the array to protect its data or make it writeable before converting it to a tensor. This type of warning will be suppressed for the rest of this program. (Triggered internally at  ..\\torch\\csrc\\utils\\tensor_numpy.cpp:180.)\n",
      "  return torch.from_numpy(parsed.astype(m[2], copy=False)).view(*s)\n"
     ]
    }
   ],
   "source": [
    "import torch\n",
    "from torch import nn\n",
    "from torch.utils.data import DataLoader\n",
    "from torchvision import datasets\n",
    "from torchvision.transforms import ToTensor, Lambda\n",
    "\n",
    "training_data = datasets.FashionMNIST(\n",
    "    root=\"data\",\n",
    "    train=True,\n",
    "    download=True,\n",
    "    transform=ToTensor()\n",
    ")\n",
    "\n",
    "test_data = datasets.FashionMNIST(\n",
    "    root=\"data\",\n",
    "    train=False,\n",
    "    download=True,\n",
    "    transform=ToTensor()\n",
    ")\n",
    "\n",
    "train_dataloader = DataLoader(training_data, batch_size=64)\n",
    "test_dataloader = DataLoader(test_data, batch_size=64)\n",
    "\n",
    "class NeuralNetwork(nn.Module):\n",
    "    def __init__(self):\n",
    "        super(NeuralNetwork, self).__init__()\n",
    "        self.flatten = nn.Flatten()\n",
    "        self.linear_relu_stack = nn.Sequential(\n",
    "            nn.Linear(28*28, 512),\n",
    "            nn.ReLU(),\n",
    "            nn.Linear(512, 512),\n",
    "            nn.ReLU(),\n",
    "            nn.Linear(512, 10),\n",
    "        )\n",
    "\n",
    "    def forward(self, x):\n",
    "        x = self.flatten(x)\n",
    "        logits = self.linear_relu_stack(x)\n",
    "        return logits\n",
    "\n",
    "model = NeuralNetwork()"
   ]
  },
  {
   "cell_type": "code",
   "execution_count": 46,
   "id": "7cb59215-bbc6-46c6-86b8-3f4d56605f29",
   "metadata": {},
   "outputs": [
    {
     "data": {
      "text/plain": [
       "(Dataset FashionMNIST\n",
       "     Number of datapoints: 60000\n",
       "     Root location: data\n",
       "     Split: Train\n",
       "     StandardTransform\n",
       " Transform: ToTensor(),\n",
       " Dataset FashionMNIST\n",
       "     Number of datapoints: 10000\n",
       "     Root location: data\n",
       "     Split: Test\n",
       "     StandardTransform\n",
       " Transform: ToTensor())"
      ]
     },
     "execution_count": 46,
     "metadata": {},
     "output_type": "execute_result"
    }
   ],
   "source": [
    "training_data, test_data"
   ]
  },
  {
   "cell_type": "markdown",
   "id": "1f2cfaac-fa60-4285-b3a3-a8765b189c5d",
   "metadata": {},
   "source": [
    "## 4.손실함수, 옵티마이저 정의"
   ]
  },
  {
   "cell_type": "code",
   "execution_count": 47,
   "id": "d2c11f13-2888-402c-8d5e-9745d636c86d",
   "metadata": {},
   "outputs": [],
   "source": [
    "learning_rate = 0.001\n",
    "batch_size = 64\n",
    "epochs = 50"
   ]
  },
  {
   "cell_type": "code",
   "execution_count": 48,
   "id": "3ebcd600-6667-4eed-8be0-6f8dc01660fd",
   "metadata": {},
   "outputs": [],
   "source": [
    "loss_fn = nn.CrossEntropyLoss()\n",
    "optimizer = torch.optim.SGD(model.parameters(), lr=learning_rate)"
   ]
  },
  {
   "cell_type": "markdown",
   "id": "8a41fbcc-4391-4e05-b054-d6e3f96f1dda",
   "metadata": {},
   "source": [
    "## 5. Training"
   ]
  },
  {
   "cell_type": "code",
   "execution_count": 49,
   "id": "c1eaa8cb-25ba-4482-94d8-7eef93f82ad6",
   "metadata": {},
   "outputs": [],
   "source": [
    "def train_loop(dataloader, model, loss_fn, optimizer):\n",
    "    size = len(dataloader.dataset)\n",
    "    for batch, (X, y) in enumerate(dataloader):\n",
    "        # 예측(prediction)과 손실(loss) 계산\n",
    "        pred = model(X)\n",
    "        loss = loss_fn(pred, y)\n",
    "\n",
    "        # 역전파\n",
    "        optimizer.zero_grad()\n",
    "        loss.backward()\n",
    "        optimizer.step()\n",
    "\n",
    "        if batch % 100 == 0:\n",
    "            loss, current = loss.item(), batch * len(X)\n",
    "            print(f\"loss: {loss:>7f}  [{current:>5d}/{size:>5d}]\")\n",
    "\n",
    "\n",
    "def test_loop(dataloader, model, loss_fn):\n",
    "    size = len(dataloader.dataset)\n",
    "    num_batches = len(dataloader)\n",
    "    test_loss, correct = 0, 0\n",
    "\n",
    "    with torch.no_grad():\n",
    "        for X, y in dataloader:\n",
    "            pred = model(X)\n",
    "            test_loss += loss_fn(pred, y).item()\n",
    "            correct += (pred.argmax(1) == y).type(torch.float).sum().item()\n",
    "\n",
    "    test_loss /= num_batches\n",
    "    correct /= size\n",
    "    print(f\"Test Error: \\n Accuracy: {(100*correct):>0.1f}%, Avg loss: {test_loss:>8f} \\n\")"
   ]
  },
  {
   "cell_type": "code",
   "execution_count": 50,
   "id": "3b463b0d-8f1c-4aa2-a5fc-e5544b7734c1",
   "metadata": {
    "scrolled": true,
    "tags": []
   },
   "outputs": [
    {
     "name": "stdout",
     "output_type": "stream",
     "text": [
      "Epoch 1\n",
      "-------------------------------\n",
      "loss: 2.318594  [    0/60000]\n",
      "loss: 2.309781  [ 6400/60000]\n",
      "loss: 2.293948  [12800/60000]\n",
      "loss: 2.277633  [19200/60000]\n",
      "loss: 2.268039  [25600/60000]\n",
      "loss: 2.248342  [32000/60000]\n",
      "loss: 2.242460  [38400/60000]\n",
      "loss: 2.222405  [44800/60000]\n",
      "loss: 2.215239  [51200/60000]\n",
      "loss: 2.185772  [57600/60000]\n",
      "Test Error: \n",
      " Accuracy: 51.9%, Avg loss: 2.181395 \n",
      "\n",
      "Epoch 2\n",
      "-------------------------------\n",
      "loss: 2.188875  [    0/60000]\n",
      "loss: 2.184662  [ 6400/60000]\n",
      "loss: 2.134859  [12800/60000]\n",
      "loss: 2.141693  [19200/60000]\n",
      "loss: 2.102097  [25600/60000]\n",
      "loss: 2.054466  [32000/60000]\n",
      "loss: 2.065920  [38400/60000]\n",
      "loss: 2.005955  [44800/60000]\n",
      "loss: 1.997730  [51200/60000]\n",
      "loss: 1.934274  [57600/60000]\n",
      "Test Error: \n",
      " Accuracy: 56.4%, Avg loss: 1.931634 \n",
      "\n",
      "Epoch 3\n",
      "-------------------------------\n",
      "loss: 1.959896  [    0/60000]\n",
      "loss: 1.940751  [ 6400/60000]\n",
      "loss: 1.830888  [12800/60000]\n",
      "loss: 1.859903  [19200/60000]\n",
      "loss: 1.764448  [25600/60000]\n",
      "loss: 1.711034  [32000/60000]\n",
      "loss: 1.722598  [38400/60000]\n",
      "loss: 1.632062  [44800/60000]\n",
      "loss: 1.642988  [51200/60000]\n",
      "loss: 1.538898  [57600/60000]\n",
      "Test Error: \n",
      " Accuracy: 59.1%, Avg loss: 1.557343 \n",
      "\n",
      "Epoch 4\n",
      "-------------------------------\n",
      "loss: 1.620715  [    0/60000]\n",
      "loss: 1.591696  [ 6400/60000]\n",
      "loss: 1.445379  [12800/60000]\n",
      "loss: 1.509914  [19200/60000]\n",
      "loss: 1.393885  [25600/60000]\n",
      "loss: 1.378213  [32000/60000]\n",
      "loss: 1.389599  [38400/60000]\n",
      "loss: 1.316771  [44800/60000]\n",
      "loss: 1.347096  [51200/60000]\n",
      "loss: 1.245630  [57600/60000]\n",
      "Test Error: \n",
      " Accuracy: 62.3%, Avg loss: 1.275191 \n",
      "\n",
      "Epoch 5\n",
      "-------------------------------\n",
      "loss: 1.350716  [    0/60000]\n",
      "loss: 1.335287  [ 6400/60000]\n",
      "loss: 1.176795  [12800/60000]\n",
      "loss: 1.278040  [19200/60000]\n",
      "loss: 1.154269  [25600/60000]\n",
      "loss: 1.170236  [32000/60000]\n",
      "loss: 1.189388  [38400/60000]\n",
      "loss: 1.128095  [44800/60000]\n",
      "loss: 1.166288  [51200/60000]\n",
      "loss: 1.082986  [57600/60000]\n",
      "Test Error: \n",
      " Accuracy: 64.0%, Avg loss: 1.105512 \n",
      "\n",
      "Epoch 6\n",
      "-------------------------------\n",
      "loss: 1.176377  [    0/60000]\n",
      "loss: 1.177649  [ 6400/60000]\n",
      "loss: 1.005457  [12800/60000]\n",
      "loss: 1.137196  [19200/60000]\n",
      "loss: 1.009975  [25600/60000]\n",
      "loss: 1.035288  [32000/60000]\n",
      "loss: 1.069796  [38400/60000]\n",
      "loss: 1.011416  [44800/60000]\n",
      "loss: 1.050936  [51200/60000]\n",
      "loss: 0.984500  [57600/60000]\n",
      "Test Error: \n",
      " Accuracy: 65.0%, Avg loss: 0.998063 \n",
      "\n",
      "Epoch 7\n",
      "-------------------------------\n",
      "loss: 1.057930  [    0/60000]\n",
      "loss: 1.076747  [ 6400/60000]\n",
      "loss: 0.889767  [12800/60000]\n",
      "loss: 1.044093  [19200/60000]\n",
      "loss: 0.919126  [25600/60000]\n",
      "loss: 0.940413  [32000/60000]\n",
      "loss: 0.991499  [38400/60000]\n",
      "loss: 0.935632  [44800/60000]\n",
      "loss: 0.970494  [51200/60000]\n",
      "loss: 0.918611  [57600/60000]\n",
      "Test Error: \n",
      " Accuracy: 66.3%, Avg loss: 0.924535 \n",
      "\n",
      "Epoch 8\n",
      "-------------------------------\n",
      "loss: 0.970486  [    0/60000]\n",
      "loss: 1.006353  [ 6400/60000]\n",
      "loss: 0.806425  [12800/60000]\n",
      "loss: 0.977579  [19200/60000]\n",
      "loss: 0.857934  [25600/60000]\n",
      "loss: 0.869788  [32000/60000]\n",
      "loss: 0.935412  [38400/60000]\n",
      "loss: 0.884577  [44800/60000]\n",
      "loss: 0.911347  [51200/60000]\n",
      "loss: 0.870231  [57600/60000]\n",
      "Test Error: \n",
      " Accuracy: 67.5%, Avg loss: 0.870886 \n",
      "\n",
      "Epoch 9\n",
      "-------------------------------\n",
      "loss: 0.902068  [    0/60000]\n",
      "loss: 0.952958  [ 6400/60000]\n",
      "loss: 0.743509  [12800/60000]\n",
      "loss: 0.927037  [19200/60000]\n",
      "loss: 0.813791  [25600/60000]\n",
      "loss: 0.815349  [32000/60000]\n",
      "loss: 0.892123  [38400/60000]\n",
      "loss: 0.848792  [44800/60000]\n",
      "loss: 0.866220  [51200/60000]\n",
      "loss: 0.832421  [57600/60000]\n",
      "Test Error: \n",
      " Accuracy: 68.6%, Avg loss: 0.829811 \n",
      "\n",
      "Epoch 10\n",
      "-------------------------------\n",
      "loss: 0.846764  [    0/60000]\n",
      "loss: 0.910016  [ 6400/60000]\n",
      "loss: 0.694315  [12800/60000]\n",
      "loss: 0.887429  [19200/60000]\n",
      "loss: 0.779876  [25600/60000]\n",
      "loss: 0.772917  [32000/60000]\n",
      "loss: 0.856628  [38400/60000]\n",
      "loss: 0.822317  [44800/60000]\n",
      "loss: 0.830669  [51200/60000]\n",
      "loss: 0.801435  [57600/60000]\n",
      "Test Error: \n",
      " Accuracy: 70.0%, Avg loss: 0.796966 \n",
      "\n",
      "Epoch 11\n",
      "-------------------------------\n",
      "loss: 0.800787  [    0/60000]\n",
      "loss: 0.873657  [ 6400/60000]\n",
      "loss: 0.654732  [12800/60000]\n",
      "loss: 0.855633  [19200/60000]\n",
      "loss: 0.752606  [25600/60000]\n",
      "loss: 0.739328  [32000/60000]\n",
      "loss: 0.826217  [38400/60000]\n",
      "loss: 0.801357  [44800/60000]\n",
      "loss: 0.801871  [51200/60000]\n",
      "loss: 0.775124  [57600/60000]\n",
      "Test Error: \n",
      " Accuracy: 71.4%, Avg loss: 0.769646 \n",
      "\n",
      "Epoch 12\n",
      "-------------------------------\n",
      "loss: 0.761554  [    0/60000]\n",
      "loss: 0.841740  [ 6400/60000]\n",
      "loss: 0.621865  [12800/60000]\n",
      "loss: 0.829557  [19200/60000]\n",
      "loss: 0.729662  [25600/60000]\n",
      "loss: 0.712064  [32000/60000]\n",
      "loss: 0.799328  [38400/60000]\n",
      "loss: 0.783735  [44800/60000]\n",
      "loss: 0.777744  [51200/60000]\n",
      "loss: 0.752117  [57600/60000]\n",
      "Test Error: \n",
      " Accuracy: 72.8%, Avg loss: 0.746118 \n",
      "\n",
      "Epoch 13\n",
      "-------------------------------\n",
      "loss: 0.727229  [    0/60000]\n",
      "loss: 0.812957  [ 6400/60000]\n",
      "loss: 0.593885  [12800/60000]\n",
      "loss: 0.807607  [19200/60000]\n",
      "loss: 0.709787  [25600/60000]\n",
      "loss: 0.689647  [32000/60000]\n",
      "loss: 0.774818  [38400/60000]\n",
      "loss: 0.768120  [44800/60000]\n",
      "loss: 0.757130  [51200/60000]\n",
      "loss: 0.731421  [57600/60000]\n",
      "Test Error: \n",
      " Accuracy: 73.9%, Avg loss: 0.725327 \n",
      "\n",
      "Epoch 14\n",
      "-------------------------------\n",
      "loss: 0.696847  [    0/60000]\n",
      "loss: 0.786785  [ 6400/60000]\n",
      "loss: 0.569608  [12800/60000]\n",
      "loss: 0.788937  [19200/60000]\n",
      "loss: 0.692344  [25600/60000]\n",
      "loss: 0.670847  [32000/60000]\n",
      "loss: 0.752334  [38400/60000]\n",
      "loss: 0.753908  [44800/60000]\n",
      "loss: 0.739126  [51200/60000]\n",
      "loss: 0.712671  [57600/60000]\n",
      "Test Error: \n",
      " Accuracy: 74.7%, Avg loss: 0.706638 \n",
      "\n",
      "Epoch 15\n",
      "-------------------------------\n",
      "loss: 0.669749  [    0/60000]\n",
      "loss: 0.762859  [ 6400/60000]\n",
      "loss: 0.548258  [12800/60000]\n",
      "loss: 0.772522  [19200/60000]\n",
      "loss: 0.677060  [25600/60000]\n",
      "loss: 0.654888  [32000/60000]\n",
      "loss: 0.731565  [38400/60000]\n",
      "loss: 0.740820  [44800/60000]\n",
      "loss: 0.723270  [51200/60000]\n",
      "loss: 0.695466  [57600/60000]\n",
      "Test Error: \n",
      " Accuracy: 75.5%, Avg loss: 0.689638 \n",
      "\n",
      "Epoch 16\n",
      "-------------------------------\n",
      "loss: 0.645434  [    0/60000]\n",
      "loss: 0.740962  [ 6400/60000]\n",
      "loss: 0.529403  [12800/60000]\n",
      "loss: 0.757825  [19200/60000]\n",
      "loss: 0.663482  [25600/60000]\n",
      "loss: 0.641176  [32000/60000]\n",
      "loss: 0.712239  [38400/60000]\n",
      "loss: 0.728848  [44800/60000]\n",
      "loss: 0.709271  [51200/60000]\n",
      "loss: 0.679700  [57600/60000]\n",
      "Test Error: \n",
      " Accuracy: 76.4%, Avg loss: 0.674086 \n",
      "\n",
      "Epoch 17\n",
      "-------------------------------\n",
      "loss: 0.623579  [    0/60000]\n",
      "loss: 0.720884  [ 6400/60000]\n",
      "loss: 0.512517  [12800/60000]\n",
      "loss: 0.744383  [19200/60000]\n",
      "loss: 0.651426  [25600/60000]\n",
      "loss: 0.629198  [32000/60000]\n",
      "loss: 0.694163  [38400/60000]\n",
      "loss: 0.718011  [44800/60000]\n",
      "loss: 0.696962  [51200/60000]\n",
      "loss: 0.665092  [57600/60000]\n",
      "Test Error: \n",
      " Accuracy: 77.0%, Avg loss: 0.659821 \n",
      "\n",
      "Epoch 18\n",
      "-------------------------------\n",
      "loss: 0.603867  [    0/60000]\n",
      "loss: 0.702373  [ 6400/60000]\n",
      "loss: 0.497311  [12800/60000]\n",
      "loss: 0.732023  [19200/60000]\n",
      "loss: 0.640552  [25600/60000]\n",
      "loss: 0.618658  [32000/60000]\n",
      "loss: 0.677276  [38400/60000]\n",
      "loss: 0.708270  [44800/60000]\n",
      "loss: 0.686229  [51200/60000]\n",
      "loss: 0.651472  [57600/60000]\n",
      "Test Error: \n",
      " Accuracy: 77.4%, Avg loss: 0.646726 \n",
      "\n",
      "Epoch 19\n",
      "-------------------------------\n",
      "loss: 0.586118  [    0/60000]\n",
      "loss: 0.685380  [ 6400/60000]\n",
      "loss: 0.483567  [12800/60000]\n",
      "loss: 0.720531  [19200/60000]\n",
      "loss: 0.630805  [25600/60000]\n",
      "loss: 0.609317  [32000/60000]\n",
      "loss: 0.661689  [38400/60000]\n",
      "loss: 0.699631  [44800/60000]\n",
      "loss: 0.676856  [51200/60000]\n",
      "loss: 0.638780  [57600/60000]\n",
      "Test Error: \n",
      " Accuracy: 77.8%, Avg loss: 0.634698 \n",
      "\n",
      "Epoch 20\n",
      "-------------------------------\n",
      "loss: 0.570089  [    0/60000]\n",
      "loss: 0.669699  [ 6400/60000]\n",
      "loss: 0.471092  [12800/60000]\n",
      "loss: 0.709865  [19200/60000]\n",
      "loss: 0.622117  [25600/60000]\n",
      "loss: 0.601015  [32000/60000]\n",
      "loss: 0.647289  [38400/60000]\n",
      "loss: 0.692079  [44800/60000]\n",
      "loss: 0.668791  [51200/60000]\n",
      "loss: 0.626832  [57600/60000]\n",
      "Test Error: \n",
      " Accuracy: 78.3%, Avg loss: 0.623633 \n",
      "\n",
      "Epoch 21\n",
      "-------------------------------\n",
      "loss: 0.555524  [    0/60000]\n",
      "loss: 0.655289  [ 6400/60000]\n",
      "loss: 0.459710  [12800/60000]\n",
      "loss: 0.699849  [19200/60000]\n",
      "loss: 0.614135  [25600/60000]\n",
      "loss: 0.593458  [32000/60000]\n",
      "loss: 0.634045  [38400/60000]\n",
      "loss: 0.685563  [44800/60000]\n",
      "loss: 0.661818  [51200/60000]\n",
      "loss: 0.615576  [57600/60000]\n",
      "Test Error: \n",
      " Accuracy: 78.6%, Avg loss: 0.613450 \n",
      "\n",
      "Epoch 22\n",
      "-------------------------------\n",
      "loss: 0.542268  [    0/60000]\n",
      "loss: 0.641998  [ 6400/60000]\n",
      "loss: 0.449284  [12800/60000]\n",
      "loss: 0.690363  [19200/60000]\n",
      "loss: 0.606742  [25600/60000]\n",
      "loss: 0.586601  [32000/60000]\n",
      "loss: 0.621806  [38400/60000]\n",
      "loss: 0.680111  [44800/60000]\n",
      "loss: 0.655789  [51200/60000]\n",
      "loss: 0.604856  [57600/60000]\n",
      "Test Error: \n",
      " Accuracy: 79.0%, Avg loss: 0.604066 \n",
      "\n",
      "Epoch 23\n",
      "-------------------------------\n",
      "loss: 0.530139  [    0/60000]\n",
      "loss: 0.629758  [ 6400/60000]\n",
      "loss: 0.439683  [12800/60000]\n",
      "loss: 0.681383  [19200/60000]\n",
      "loss: 0.599892  [25600/60000]\n",
      "loss: 0.580300  [32000/60000]\n",
      "loss: 0.610557  [38400/60000]\n",
      "loss: 0.675569  [44800/60000]\n",
      "loss: 0.650607  [51200/60000]\n",
      "loss: 0.594640  [57600/60000]\n",
      "Test Error: \n",
      " Accuracy: 79.4%, Avg loss: 0.595405 \n",
      "\n",
      "Epoch 24\n",
      "-------------------------------\n",
      "loss: 0.518961  [    0/60000]\n",
      "loss: 0.618428  [ 6400/60000]\n",
      "loss: 0.430801  [12800/60000]\n",
      "loss: 0.672803  [19200/60000]\n",
      "loss: 0.593418  [25600/60000]\n",
      "loss: 0.574439  [32000/60000]\n",
      "loss: 0.600230  [38400/60000]\n",
      "loss: 0.671877  [44800/60000]\n",
      "loss: 0.646184  [51200/60000]\n",
      "loss: 0.584833  [57600/60000]\n",
      "Test Error: \n",
      " Accuracy: 79.7%, Avg loss: 0.587397 \n",
      "\n",
      "Epoch 25\n",
      "-------------------------------\n",
      "loss: 0.508566  [    0/60000]\n",
      "loss: 0.608002  [ 6400/60000]\n",
      "loss: 0.422573  [12800/60000]\n",
      "loss: 0.664609  [19200/60000]\n",
      "loss: 0.587195  [25600/60000]\n",
      "loss: 0.568948  [32000/60000]\n",
      "loss: 0.590744  [38400/60000]\n",
      "loss: 0.668915  [44800/60000]\n",
      "loss: 0.642305  [51200/60000]\n",
      "loss: 0.575409  [57600/60000]\n",
      "Test Error: \n",
      " Accuracy: 79.9%, Avg loss: 0.579982 \n",
      "\n",
      "Epoch 26\n",
      "-------------------------------\n",
      "loss: 0.498916  [    0/60000]\n",
      "loss: 0.598327  [ 6400/60000]\n",
      "loss: 0.414943  [12800/60000]\n",
      "loss: 0.656784  [19200/60000]\n",
      "loss: 0.581165  [25600/60000]\n",
      "loss: 0.563758  [32000/60000]\n",
      "loss: 0.582034  [38400/60000]\n",
      "loss: 0.666657  [44800/60000]\n",
      "loss: 0.638881  [51200/60000]\n",
      "loss: 0.566286  [57600/60000]\n",
      "Test Error: \n",
      " Accuracy: 80.1%, Avg loss: 0.573109 \n",
      "\n",
      "Epoch 27\n",
      "-------------------------------\n",
      "loss: 0.489875  [    0/60000]\n",
      "loss: 0.589354  [ 6400/60000]\n",
      "loss: 0.407842  [12800/60000]\n",
      "loss: 0.649227  [19200/60000]\n",
      "loss: 0.575196  [25600/60000]\n",
      "loss: 0.558764  [32000/60000]\n",
      "loss: 0.574058  [38400/60000]\n",
      "loss: 0.665011  [44800/60000]\n",
      "loss: 0.635808  [51200/60000]\n",
      "loss: 0.557479  [57600/60000]\n",
      "Test Error: \n",
      " Accuracy: 80.4%, Avg loss: 0.566728 \n",
      "\n",
      "Epoch 28\n",
      "-------------------------------\n",
      "loss: 0.481399  [    0/60000]\n",
      "loss: 0.581031  [ 6400/60000]\n",
      "loss: 0.401214  [12800/60000]\n",
      "loss: 0.641987  [19200/60000]\n",
      "loss: 0.569392  [25600/60000]\n",
      "loss: 0.553974  [32000/60000]\n",
      "loss: 0.566700  [38400/60000]\n",
      "loss: 0.663862  [44800/60000]\n",
      "loss: 0.633071  [51200/60000]\n",
      "loss: 0.548905  [57600/60000]\n",
      "Test Error: \n",
      " Accuracy: 80.5%, Avg loss: 0.560790 \n",
      "\n",
      "Epoch 29\n",
      "-------------------------------\n",
      "loss: 0.473447  [    0/60000]\n",
      "loss: 0.573336  [ 6400/60000]\n",
      "loss: 0.395013  [12800/60000]\n",
      "loss: 0.635062  [19200/60000]\n",
      "loss: 0.563716  [25600/60000]\n",
      "loss: 0.549298  [32000/60000]\n",
      "loss: 0.559874  [38400/60000]\n",
      "loss: 0.663137  [44800/60000]\n",
      "loss: 0.630609  [51200/60000]\n",
      "loss: 0.540617  [57600/60000]\n",
      "Test Error: \n",
      " Accuracy: 80.6%, Avg loss: 0.555265 \n",
      "\n",
      "Epoch 30\n",
      "-------------------------------\n",
      "loss: 0.465929  [    0/60000]\n",
      "loss: 0.566240  [ 6400/60000]\n",
      "loss: 0.389182  [12800/60000]\n",
      "loss: 0.628452  [19200/60000]\n",
      "loss: 0.558096  [25600/60000]\n",
      "loss: 0.544719  [32000/60000]\n",
      "loss: 0.553559  [38400/60000]\n",
      "loss: 0.662777  [44800/60000]\n",
      "loss: 0.628300  [51200/60000]\n",
      "loss: 0.532587  [57600/60000]\n",
      "Test Error: \n",
      " Accuracy: 80.9%, Avg loss: 0.550107 \n",
      "\n",
      "Epoch 31\n",
      "-------------------------------\n",
      "loss: 0.458813  [    0/60000]\n",
      "loss: 0.559641  [ 6400/60000]\n",
      "loss: 0.383725  [12800/60000]\n",
      "loss: 0.622145  [19200/60000]\n",
      "loss: 0.552570  [25600/60000]\n",
      "loss: 0.540274  [32000/60000]\n",
      "loss: 0.547711  [38400/60000]\n",
      "loss: 0.662726  [44800/60000]\n",
      "loss: 0.626115  [51200/60000]\n",
      "loss: 0.524795  [57600/60000]\n",
      "Test Error: \n",
      " Accuracy: 81.0%, Avg loss: 0.545283 \n",
      "\n",
      "Epoch 32\n",
      "-------------------------------\n",
      "loss: 0.452007  [    0/60000]\n",
      "loss: 0.553528  [ 6400/60000]\n",
      "loss: 0.378567  [12800/60000]\n",
      "loss: 0.616129  [19200/60000]\n",
      "loss: 0.547125  [25600/60000]\n",
      "loss: 0.535911  [32000/60000]\n",
      "loss: 0.542284  [38400/60000]\n",
      "loss: 0.662880  [44800/60000]\n",
      "loss: 0.624014  [51200/60000]\n",
      "loss: 0.517259  [57600/60000]\n",
      "Test Error: \n",
      " Accuracy: 81.1%, Avg loss: 0.540766 \n",
      "\n",
      "Epoch 33\n",
      "-------------------------------\n",
      "loss: 0.445502  [    0/60000]\n",
      "loss: 0.547866  [ 6400/60000]\n",
      "loss: 0.373671  [12800/60000]\n",
      "loss: 0.610383  [19200/60000]\n",
      "loss: 0.541866  [25600/60000]\n",
      "loss: 0.531612  [32000/60000]\n",
      "loss: 0.537260  [38400/60000]\n",
      "loss: 0.663135  [44800/60000]\n",
      "loss: 0.622032  [51200/60000]\n",
      "loss: 0.510000  [57600/60000]\n",
      "Test Error: \n",
      " Accuracy: 81.2%, Avg loss: 0.536528 \n",
      "\n",
      "Epoch 34\n",
      "-------------------------------\n",
      "loss: 0.439326  [    0/60000]\n",
      "loss: 0.542581  [ 6400/60000]\n",
      "loss: 0.369093  [12800/60000]\n",
      "loss: 0.604846  [19200/60000]\n",
      "loss: 0.536713  [25600/60000]\n",
      "loss: 0.527342  [32000/60000]\n",
      "loss: 0.532551  [38400/60000]\n",
      "loss: 0.663427  [44800/60000]\n",
      "loss: 0.620055  [51200/60000]\n",
      "loss: 0.503048  [57600/60000]\n",
      "Test Error: \n",
      " Accuracy: 81.4%, Avg loss: 0.532545 \n",
      "\n",
      "Epoch 35\n",
      "-------------------------------\n",
      "loss: 0.433370  [    0/60000]\n",
      "loss: 0.537695  [ 6400/60000]\n",
      "loss: 0.364773  [12800/60000]\n",
      "loss: 0.599481  [19200/60000]\n",
      "loss: 0.531692  [25600/60000]\n",
      "loss: 0.523139  [32000/60000]\n",
      "loss: 0.528127  [38400/60000]\n",
      "loss: 0.663804  [44800/60000]\n",
      "loss: 0.618083  [51200/60000]\n",
      "loss: 0.496418  [57600/60000]\n",
      "Test Error: \n",
      " Accuracy: 81.5%, Avg loss: 0.528796 \n",
      "\n",
      "Epoch 36\n",
      "-------------------------------\n",
      "loss: 0.427681  [    0/60000]\n",
      "loss: 0.533159  [ 6400/60000]\n",
      "loss: 0.360705  [12800/60000]\n",
      "loss: 0.594361  [19200/60000]\n",
      "loss: 0.526751  [25600/60000]\n",
      "loss: 0.519026  [32000/60000]\n",
      "loss: 0.523948  [38400/60000]\n",
      "loss: 0.664146  [44800/60000]\n",
      "loss: 0.616163  [51200/60000]\n",
      "loss: 0.490061  [57600/60000]\n",
      "Test Error: \n",
      " Accuracy: 81.6%, Avg loss: 0.525258 \n",
      "\n",
      "Epoch 37\n",
      "-------------------------------\n",
      "loss: 0.422228  [    0/60000]\n",
      "loss: 0.528973  [ 6400/60000]\n",
      "loss: 0.356880  [12800/60000]\n",
      "loss: 0.589428  [19200/60000]\n",
      "loss: 0.521923  [25600/60000]\n",
      "loss: 0.515014  [32000/60000]\n",
      "loss: 0.519981  [38400/60000]\n",
      "loss: 0.664397  [44800/60000]\n",
      "loss: 0.614191  [51200/60000]\n",
      "loss: 0.484016  [57600/60000]\n",
      "Test Error: \n",
      " Accuracy: 81.6%, Avg loss: 0.521913 \n",
      "\n",
      "Epoch 38\n",
      "-------------------------------\n",
      "loss: 0.417017  [    0/60000]\n",
      "loss: 0.525091  [ 6400/60000]\n",
      "loss: 0.353276  [12800/60000]\n",
      "loss: 0.584707  [19200/60000]\n",
      "loss: 0.517144  [25600/60000]\n",
      "loss: 0.511032  [32000/60000]\n",
      "loss: 0.516188  [38400/60000]\n",
      "loss: 0.664572  [44800/60000]\n",
      "loss: 0.612253  [51200/60000]\n",
      "loss: 0.478186  [57600/60000]\n",
      "Test Error: \n",
      " Accuracy: 81.7%, Avg loss: 0.518748 \n",
      "\n",
      "Epoch 39\n",
      "-------------------------------\n",
      "loss: 0.412021  [    0/60000]\n",
      "loss: 0.521476  [ 6400/60000]\n",
      "loss: 0.349836  [12800/60000]\n",
      "loss: 0.580208  [19200/60000]\n",
      "loss: 0.512498  [25600/60000]\n",
      "loss: 0.507131  [32000/60000]\n",
      "loss: 0.512541  [38400/60000]\n",
      "loss: 0.664681  [44800/60000]\n",
      "loss: 0.610399  [51200/60000]\n",
      "loss: 0.472625  [57600/60000]\n",
      "Test Error: \n",
      " Accuracy: 81.8%, Avg loss: 0.515742 \n",
      "\n",
      "Epoch 40\n",
      "-------------------------------\n",
      "loss: 0.407147  [    0/60000]\n",
      "loss: 0.518084  [ 6400/60000]\n",
      "loss: 0.346544  [12800/60000]\n",
      "loss: 0.575840  [19200/60000]\n",
      "loss: 0.507892  [25600/60000]\n",
      "loss: 0.503318  [32000/60000]\n",
      "loss: 0.509017  [38400/60000]\n",
      "loss: 0.664589  [44800/60000]\n",
      "loss: 0.608564  [51200/60000]\n",
      "loss: 0.467291  [57600/60000]\n",
      "Test Error: \n",
      " Accuracy: 81.9%, Avg loss: 0.512887 \n",
      "\n",
      "Epoch 41\n",
      "-------------------------------\n",
      "loss: 0.402429  [    0/60000]\n",
      "loss: 0.514905  [ 6400/60000]\n",
      "loss: 0.343311  [12800/60000]\n",
      "loss: 0.571642  [19200/60000]\n",
      "loss: 0.503469  [25600/60000]\n",
      "loss: 0.499634  [32000/60000]\n",
      "loss: 0.505643  [38400/60000]\n",
      "loss: 0.664386  [44800/60000]\n",
      "loss: 0.606693  [51200/60000]\n",
      "loss: 0.462245  [57600/60000]\n",
      "Test Error: \n",
      " Accuracy: 81.9%, Avg loss: 0.510180 \n",
      "\n",
      "Epoch 42\n",
      "-------------------------------\n",
      "loss: 0.397813  [    0/60000]\n",
      "loss: 0.511959  [ 6400/60000]\n",
      "loss: 0.340186  [12800/60000]\n",
      "loss: 0.567650  [19200/60000]\n",
      "loss: 0.499169  [25600/60000]\n",
      "loss: 0.496097  [32000/60000]\n",
      "loss: 0.502482  [38400/60000]\n",
      "loss: 0.664047  [44800/60000]\n",
      "loss: 0.604823  [51200/60000]\n",
      "loss: 0.457383  [57600/60000]\n",
      "Test Error: \n",
      " Accuracy: 82.0%, Avg loss: 0.507600 \n",
      "\n",
      "Epoch 43\n",
      "-------------------------------\n",
      "loss: 0.393298  [    0/60000]\n",
      "loss: 0.509233  [ 6400/60000]\n",
      "loss: 0.337189  [12800/60000]\n",
      "loss: 0.563812  [19200/60000]\n",
      "loss: 0.495028  [25600/60000]\n",
      "loss: 0.492590  [32000/60000]\n",
      "loss: 0.499466  [38400/60000]\n",
      "loss: 0.663549  [44800/60000]\n",
      "loss: 0.602934  [51200/60000]\n",
      "loss: 0.452789  [57600/60000]\n",
      "Test Error: \n",
      " Accuracy: 82.0%, Avg loss: 0.505133 \n",
      "\n",
      "Epoch 44\n",
      "-------------------------------\n",
      "loss: 0.388958  [    0/60000]\n",
      "loss: 0.506680  [ 6400/60000]\n",
      "loss: 0.334226  [12800/60000]\n",
      "loss: 0.560169  [19200/60000]\n",
      "loss: 0.491072  [25600/60000]\n",
      "loss: 0.489207  [32000/60000]\n",
      "loss: 0.496583  [38400/60000]\n",
      "loss: 0.663001  [44800/60000]\n",
      "loss: 0.601038  [51200/60000]\n",
      "loss: 0.448394  [57600/60000]\n",
      "Test Error: \n",
      " Accuracy: 82.2%, Avg loss: 0.502766 \n",
      "\n",
      "Epoch 45\n",
      "-------------------------------\n",
      "loss: 0.384819  [    0/60000]\n",
      "loss: 0.504197  [ 6400/60000]\n",
      "loss: 0.331414  [12800/60000]\n",
      "loss: 0.556660  [19200/60000]\n",
      "loss: 0.487389  [25600/60000]\n",
      "loss: 0.486042  [32000/60000]\n",
      "loss: 0.493766  [38400/60000]\n",
      "loss: 0.662331  [44800/60000]\n",
      "loss: 0.599155  [51200/60000]\n",
      "loss: 0.444274  [57600/60000]\n",
      "Test Error: \n",
      " Accuracy: 82.3%, Avg loss: 0.500509 \n",
      "\n",
      "Epoch 46\n",
      "-------------------------------\n",
      "loss: 0.380795  [    0/60000]\n",
      "loss: 0.501763  [ 6400/60000]\n",
      "loss: 0.328851  [12800/60000]\n",
      "loss: 0.553249  [19200/60000]\n",
      "loss: 0.483741  [25600/60000]\n",
      "loss: 0.483011  [32000/60000]\n",
      "loss: 0.491050  [38400/60000]\n",
      "loss: 0.661560  [44800/60000]\n",
      "loss: 0.597415  [51200/60000]\n",
      "loss: 0.440471  [57600/60000]\n",
      "Test Error: \n",
      " Accuracy: 82.4%, Avg loss: 0.498351 \n",
      "\n",
      "Epoch 47\n",
      "-------------------------------\n",
      "loss: 0.376846  [    0/60000]\n",
      "loss: 0.499473  [ 6400/60000]\n",
      "loss: 0.326445  [12800/60000]\n",
      "loss: 0.550028  [19200/60000]\n",
      "loss: 0.480162  [25600/60000]\n",
      "loss: 0.480214  [32000/60000]\n",
      "loss: 0.488439  [38400/60000]\n",
      "loss: 0.660701  [44800/60000]\n",
      "loss: 0.595719  [51200/60000]\n",
      "loss: 0.436994  [57600/60000]\n",
      "Test Error: \n",
      " Accuracy: 82.4%, Avg loss: 0.496289 \n",
      "\n",
      "Epoch 48\n",
      "-------------------------------\n",
      "loss: 0.372978  [    0/60000]\n",
      "loss: 0.497293  [ 6400/60000]\n",
      "loss: 0.324142  [12800/60000]\n",
      "loss: 0.546928  [19200/60000]\n",
      "loss: 0.476632  [25600/60000]\n",
      "loss: 0.477488  [32000/60000]\n",
      "loss: 0.485956  [38400/60000]\n",
      "loss: 0.659816  [44800/60000]\n",
      "loss: 0.594015  [51200/60000]\n",
      "loss: 0.433689  [57600/60000]\n",
      "Test Error: \n",
      " Accuracy: 82.5%, Avg loss: 0.494307 \n",
      "\n",
      "Epoch 49\n",
      "-------------------------------\n",
      "loss: 0.369231  [    0/60000]\n",
      "loss: 0.495200  [ 6400/60000]\n",
      "loss: 0.321913  [12800/60000]\n",
      "loss: 0.543983  [19200/60000]\n",
      "loss: 0.473224  [25600/60000]\n",
      "loss: 0.474807  [32000/60000]\n",
      "loss: 0.483523  [38400/60000]\n",
      "loss: 0.658849  [44800/60000]\n",
      "loss: 0.592316  [51200/60000]\n",
      "loss: 0.430528  [57600/60000]\n",
      "Test Error: \n",
      " Accuracy: 82.6%, Avg loss: 0.492400 \n",
      "\n",
      "Epoch 50\n",
      "-------------------------------\n",
      "loss: 0.365634  [    0/60000]\n",
      "loss: 0.493173  [ 6400/60000]\n",
      "loss: 0.319744  [12800/60000]\n",
      "loss: 0.541149  [19200/60000]\n",
      "loss: 0.469972  [25600/60000]\n",
      "loss: 0.472171  [32000/60000]\n",
      "loss: 0.481148  [38400/60000]\n",
      "loss: 0.657779  [44800/60000]\n",
      "loss: 0.590662  [51200/60000]\n",
      "loss: 0.427576  [57600/60000]\n",
      "Test Error: \n",
      " Accuracy: 82.6%, Avg loss: 0.490566 \n",
      "\n",
      "Done!\n"
     ]
    }
   ],
   "source": [
    "loss_fn = nn.CrossEntropyLoss()\n",
    "optimizer = torch.optim.SGD(model.parameters(), lr=learning_rate)\n",
    "\n",
    "epochs = 50\n",
    "for t in range(epochs):\n",
    "    print(f\"Epoch {t+1}\\n-------------------------------\")\n",
    "    train_loop(train_dataloader, model, loss_fn, optimizer)\n",
    "    test_loop(test_dataloader, model, loss_fn)\n",
    "print(\"Done!\")"
   ]
  },
  {
   "cell_type": "code",
   "execution_count": null,
   "id": "f8ad2b62-4adb-42ae-ada9-a37f131dd329",
   "metadata": {},
   "outputs": [],
   "source": []
  }
 ],
 "metadata": {
  "kernelspec": {
   "display_name": "Python 3 (ipykernel)",
   "language": "python",
   "name": "python3"
  },
  "language_info": {
   "codemirror_mode": {
    "name": "ipython",
    "version": 3
   },
   "file_extension": ".py",
   "mimetype": "text/x-python",
   "name": "python",
   "nbconvert_exporter": "python",
   "pygments_lexer": "ipython3",
   "version": "3.8.11"
  }
 },
 "nbformat": 4,
 "nbformat_minor": 5
}
